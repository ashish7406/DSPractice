{
 "cells": [
  {
   "cell_type": "markdown",
   "metadata": {},
   "source": [
    "# Ontario Covid Dataset\n",
    "\n",
    "#### Submitted by ASHISH SHARMA 500188494\n",
    "#### We will discuss understanding data and getting insights.\n",
    "\n",
    "#### Dataset Source:https://data.ontario.ca/dataset/ontario-covid-19-outbreaks-data/resource/36048cc1-3c47-48ff-a49f-8c7840e32cc2\n"
   ]
  },
  {
   "cell_type": "code",
   "execution_count": 1,
   "metadata": {},
   "outputs": [],
   "source": [
    "# Importing libraries\n",
    "\n",
    "import pandas as pd\n",
    "import matplotlib.pyplot as plt\n",
    "import seaborn as sns\n",
    "import datetime"
   ]
  },
  {
   "cell_type": "markdown",
   "metadata": {},
   "source": [
    "### Loading  Dataset"
   ]
  },
  {
   "cell_type": "code",
   "execution_count": 3,
   "metadata": {},
   "outputs": [],
   "source": [
    "# Read_csv will read csv files \n",
    "\n",
    "outbreak_data = pd.read_csv('ongoing_outbreaks_phu.csv')"
   ]
  },
  {
   "cell_type": "code",
   "execution_count": 5,
   "metadata": {},
   "outputs": [
    {
     "name": "stdout",
     "output_type": "stream",
     "text": [
      "<class 'pandas.core.frame.DataFrame'>\n",
      "RangeIndex: 25682 entries, 0 to 25681\n",
      "Data columns (total 5 columns):\n",
      "date                        25682 non-null object\n",
      "phu_name                    25682 non-null object\n",
      "phu_num                     25682 non-null int64\n",
      "outbreak_group              25682 non-null object\n",
      "number_ongoing_outbreaks    25682 non-null int64\n",
      "dtypes: int64(2), object(3)\n",
      "memory usage: 1003.3+ KB\n"
     ]
    }
   ],
   "source": [
    "# Getting  information related to your dataset and typeof datatype/\n",
    "\n",
    "outbreak_data.info()"
   ]
  },
  {
   "cell_type": "code",
   "execution_count": 9,
   "metadata": {},
   "outputs": [],
   "source": [
    "#Renaming the columns which are generic\n",
    "outbreak_data.rename(columns = {'number_ongoing_outbreaks':'TotalCases'}, inplace = True)\n",
    "outbreak_data.rename(columns = {'phu_name':'City'}, inplace = True)"
   ]
  },
  {
   "cell_type": "code",
   "execution_count": 10,
   "metadata": {},
   "outputs": [
    {
     "data": {
      "text/html": [
       "<div>\n",
       "<style scoped>\n",
       "    .dataframe tbody tr th:only-of-type {\n",
       "        vertical-align: middle;\n",
       "    }\n",
       "\n",
       "    .dataframe tbody tr th {\n",
       "        vertical-align: top;\n",
       "    }\n",
       "\n",
       "    .dataframe thead th {\n",
       "        text-align: right;\n",
       "    }\n",
       "</style>\n",
       "<table border=\"1\" class=\"dataframe\">\n",
       "  <thead>\n",
       "    <tr style=\"text-align: right;\">\n",
       "      <th></th>\n",
       "      <th>date</th>\n",
       "      <th>City</th>\n",
       "      <th>phu_num</th>\n",
       "      <th>outbreak_group</th>\n",
       "      <th>TotalCases</th>\n",
       "    </tr>\n",
       "  </thead>\n",
       "  <tbody>\n",
       "    <tr>\n",
       "      <td>0</td>\n",
       "      <td>2020-11-01</td>\n",
       "      <td>BRANT COUNTY</td>\n",
       "      <td>2227</td>\n",
       "      <td>4 Workplace</td>\n",
       "      <td>1</td>\n",
       "    </tr>\n",
       "    <tr>\n",
       "      <td>1</td>\n",
       "      <td>2020-11-01</td>\n",
       "      <td>BRANT COUNTY</td>\n",
       "      <td>2227</td>\n",
       "      <td>1 Congregate Care</td>\n",
       "      <td>2</td>\n",
       "    </tr>\n",
       "    <tr>\n",
       "      <td>2</td>\n",
       "      <td>2020-11-01</td>\n",
       "      <td>CHATHAM-KENT</td>\n",
       "      <td>2240</td>\n",
       "      <td>5 Recreational</td>\n",
       "      <td>1</td>\n",
       "    </tr>\n",
       "    <tr>\n",
       "      <td>3</td>\n",
       "      <td>2020-11-01</td>\n",
       "      <td>CHATHAM-KENT</td>\n",
       "      <td>2240</td>\n",
       "      <td>6 Other/Unknown</td>\n",
       "      <td>1</td>\n",
       "    </tr>\n",
       "    <tr>\n",
       "      <td>4</td>\n",
       "      <td>2020-11-01</td>\n",
       "      <td>CHATHAM-KENT</td>\n",
       "      <td>2240</td>\n",
       "      <td>4 Workplace</td>\n",
       "      <td>1</td>\n",
       "    </tr>\n",
       "  </tbody>\n",
       "</table>\n",
       "</div>"
      ],
      "text/plain": [
       "         date          City  phu_num     outbreak_group  TotalCases\n",
       "0  2020-11-01  BRANT COUNTY     2227        4 Workplace           1\n",
       "1  2020-11-01  BRANT COUNTY     2227  1 Congregate Care           2\n",
       "2  2020-11-01  CHATHAM-KENT     2240     5 Recreational           1\n",
       "3  2020-11-01  CHATHAM-KENT     2240    6 Other/Unknown           1\n",
       "4  2020-11-01  CHATHAM-KENT     2240        4 Workplace           1"
      ]
     },
     "execution_count": 10,
     "metadata": {},
     "output_type": "execute_result"
    }
   ],
   "source": [
    "#head function will print the top 5 records\n",
    "outbreak_data.head()"
   ]
  },
  {
   "cell_type": "code",
   "execution_count": 11,
   "metadata": {},
   "outputs": [
    {
     "data": {
      "text/html": [
       "<div>\n",
       "<style scoped>\n",
       "    .dataframe tbody tr th:only-of-type {\n",
       "        vertical-align: middle;\n",
       "    }\n",
       "\n",
       "    .dataframe tbody tr th {\n",
       "        vertical-align: top;\n",
       "    }\n",
       "\n",
       "    .dataframe thead th {\n",
       "        text-align: right;\n",
       "    }\n",
       "</style>\n",
       "<table border=\"1\" class=\"dataframe\">\n",
       "  <thead>\n",
       "    <tr style=\"text-align: right;\">\n",
       "      <th></th>\n",
       "      <th>phu_num</th>\n",
       "      <th>TotalCases</th>\n",
       "    </tr>\n",
       "  </thead>\n",
       "  <tbody>\n",
       "    <tr>\n",
       "      <td>count</td>\n",
       "      <td>25682.000000</td>\n",
       "      <td>25682.000000</td>\n",
       "    </tr>\n",
       "    <tr>\n",
       "      <td>mean</td>\n",
       "      <td>2466.006580</td>\n",
       "      <td>6.288996</td>\n",
       "    </tr>\n",
       "    <tr>\n",
       "      <td>std</td>\n",
       "      <td>680.605949</td>\n",
       "      <td>10.778658</td>\n",
       "    </tr>\n",
       "    <tr>\n",
       "      <td>min</td>\n",
       "      <td>2226.000000</td>\n",
       "      <td>1.000000</td>\n",
       "    </tr>\n",
       "    <tr>\n",
       "      <td>25%</td>\n",
       "      <td>2238.000000</td>\n",
       "      <td>1.000000</td>\n",
       "    </tr>\n",
       "    <tr>\n",
       "      <td>50%</td>\n",
       "      <td>2253.000000</td>\n",
       "      <td>2.000000</td>\n",
       "    </tr>\n",
       "    <tr>\n",
       "      <td>75%</td>\n",
       "      <td>2265.000000</td>\n",
       "      <td>6.000000</td>\n",
       "    </tr>\n",
       "    <tr>\n",
       "      <td>max</td>\n",
       "      <td>5183.000000</td>\n",
       "      <td>123.000000</td>\n",
       "    </tr>\n",
       "  </tbody>\n",
       "</table>\n",
       "</div>"
      ],
      "text/plain": [
       "            phu_num    TotalCases\n",
       "count  25682.000000  25682.000000\n",
       "mean    2466.006580      6.288996\n",
       "std      680.605949     10.778658\n",
       "min     2226.000000      1.000000\n",
       "25%     2238.000000      1.000000\n",
       "50%     2253.000000      2.000000\n",
       "75%     2265.000000      6.000000\n",
       "max     5183.000000    123.000000"
      ]
     },
     "execution_count": 11,
     "metadata": {},
     "output_type": "execute_result"
    }
   ],
   "source": [
    "\n",
    "#Describe function\n",
    "outbreak_data.describe()"
   ]
  },
  {
   "cell_type": "code",
   "execution_count": 12,
   "metadata": {},
   "outputs": [
    {
     "data": {
      "text/plain": [
       "Index(['date', 'City', 'phu_num', 'outbreak_group', 'TotalCases'], dtype='object')"
      ]
     },
     "execution_count": 12,
     "metadata": {},
     "output_type": "execute_result"
    }
   ],
   "source": [
    "outbreak_data.columns"
   ]
  },
  {
   "cell_type": "code",
   "execution_count": 13,
   "metadata": {},
   "outputs": [
    {
     "data": {
      "text/html": [
       "<div>\n",
       "<style scoped>\n",
       "    .dataframe tbody tr th:only-of-type {\n",
       "        vertical-align: middle;\n",
       "    }\n",
       "\n",
       "    .dataframe tbody tr th {\n",
       "        vertical-align: top;\n",
       "    }\n",
       "\n",
       "    .dataframe thead th {\n",
       "        text-align: right;\n",
       "    }\n",
       "</style>\n",
       "<table border=\"1\" class=\"dataframe\">\n",
       "  <thead>\n",
       "    <tr style=\"text-align: right;\">\n",
       "      <th></th>\n",
       "      <th>Total</th>\n",
       "      <th>%</th>\n",
       "    </tr>\n",
       "  </thead>\n",
       "  <tbody>\n",
       "    <tr>\n",
       "      <td>TotalCases</td>\n",
       "      <td>0</td>\n",
       "      <td>0.0</td>\n",
       "    </tr>\n",
       "    <tr>\n",
       "      <td>outbreak_group</td>\n",
       "      <td>0</td>\n",
       "      <td>0.0</td>\n",
       "    </tr>\n",
       "    <tr>\n",
       "      <td>phu_num</td>\n",
       "      <td>0</td>\n",
       "      <td>0.0</td>\n",
       "    </tr>\n",
       "    <tr>\n",
       "      <td>City</td>\n",
       "      <td>0</td>\n",
       "      <td>0.0</td>\n",
       "    </tr>\n",
       "    <tr>\n",
       "      <td>date</td>\n",
       "      <td>0</td>\n",
       "      <td>0.0</td>\n",
       "    </tr>\n",
       "  </tbody>\n",
       "</table>\n",
       "</div>"
      ],
      "text/plain": [
       "                Total    %\n",
       "TotalCases          0  0.0\n",
       "outbreak_group      0  0.0\n",
       "phu_num             0  0.0\n",
       "City                0  0.0\n",
       "date                0  0.0"
      ]
     },
     "execution_count": 13,
     "metadata": {},
     "output_type": "execute_result"
    }
   ],
   "source": [
    "# Checking for null values\n",
    "\n",
    "total = outbreak_data.isnull().sum().sort_values(ascending = False)\n",
    "percent_1 = outbreak_data.isnull().sum()/outbreak_data.isnull().count()*100\n",
    "percent_2 = (round(percent_1,1)).sort_values(ascending = False)\n",
    "missing_data = pd.concat([total,percent_2],axis=1,keys=['Total','%'])\n",
    "missing_data.head(5)"
   ]
  },
  {
   "cell_type": "markdown",
   "metadata": {},
   "source": [
    "As we can see that, there is no null values in these columns so we dont need to perform data cleaning."
   ]
  },
  {
   "cell_type": "markdown",
   "metadata": {},
   "source": [
    "### Data Insights using Pandas"
   ]
  },
  {
   "cell_type": "markdown",
   "metadata": {},
   "source": [
    "### Q1) How many number of cases are in Ontario?"
   ]
  },
  {
   "cell_type": "code",
   "execution_count": 16,
   "metadata": {},
   "outputs": [
    {
     "name": "stdout",
     "output_type": "stream",
     "text": [
      "Total Cases in Ontario: 161514\n"
     ]
    }
   ],
   "source": [
    "total_cases = outbreak_data['TotalCases'].sum()\n",
    "print(\"Total Cases in Ontario:\",total_cases)"
   ]
  },
  {
   "cell_type": "markdown",
   "metadata": {},
   "source": [
    "###  Q2) Display total number of cases city wise."
   ]
  },
  {
   "cell_type": "code",
   "execution_count": 20,
   "metadata": {},
   "outputs": [
    {
     "data": {
      "text/html": [
       "<div>\n",
       "<style scoped>\n",
       "    .dataframe tbody tr th:only-of-type {\n",
       "        vertical-align: middle;\n",
       "    }\n",
       "\n",
       "    .dataframe tbody tr th {\n",
       "        vertical-align: top;\n",
       "    }\n",
       "\n",
       "    .dataframe thead th {\n",
       "        text-align: right;\n",
       "    }\n",
       "</style>\n",
       "<table border=\"1\" class=\"dataframe\">\n",
       "  <thead>\n",
       "    <tr style=\"text-align: right;\">\n",
       "      <th></th>\n",
       "      <th>TotalCases</th>\n",
       "    </tr>\n",
       "    <tr>\n",
       "      <th>City</th>\n",
       "      <th></th>\n",
       "    </tr>\n",
       "  </thead>\n",
       "  <tbody>\n",
       "    <tr>\n",
       "      <td>TORONTO</td>\n",
       "      <td>30828</td>\n",
       "    </tr>\n",
       "    <tr>\n",
       "      <td>PEEL REGION</td>\n",
       "      <td>28965</td>\n",
       "    </tr>\n",
       "    <tr>\n",
       "      <td>YORK REGION</td>\n",
       "      <td>19651</td>\n",
       "    </tr>\n",
       "    <tr>\n",
       "      <td>DURHAM REGION</td>\n",
       "      <td>8000</td>\n",
       "    </tr>\n",
       "    <tr>\n",
       "      <td>CITY OF OTTAWA</td>\n",
       "      <td>7816</td>\n",
       "    </tr>\n",
       "    <tr>\n",
       "      <td>CITY OF HAMILTON</td>\n",
       "      <td>6819</td>\n",
       "    </tr>\n",
       "    <tr>\n",
       "      <td>HALTON REGION</td>\n",
       "      <td>6588</td>\n",
       "    </tr>\n",
       "    <tr>\n",
       "      <td>MIDDLESEX-LONDON</td>\n",
       "      <td>6193</td>\n",
       "    </tr>\n",
       "    <tr>\n",
       "      <td>NIAGARA REGION</td>\n",
       "      <td>6156</td>\n",
       "    </tr>\n",
       "    <tr>\n",
       "      <td>WATERLOO REGION</td>\n",
       "      <td>5493</td>\n",
       "    </tr>\n",
       "    <tr>\n",
       "      <td>WELLINGTON-DUFFERIN-GUELPH</td>\n",
       "      <td>4604</td>\n",
       "    </tr>\n",
       "    <tr>\n",
       "      <td>WINDSOR-ESSEX COUNTY</td>\n",
       "      <td>4600</td>\n",
       "    </tr>\n",
       "    <tr>\n",
       "      <td>SIMCOE MUSKOKA DISTRICT</td>\n",
       "      <td>3898</td>\n",
       "    </tr>\n",
       "    <tr>\n",
       "      <td>EASTERN ONTARIO</td>\n",
       "      <td>2630</td>\n",
       "    </tr>\n",
       "    <tr>\n",
       "      <td>OXFORD ELGIN-ST.THOMAS</td>\n",
       "      <td>2074</td>\n",
       "    </tr>\n",
       "    <tr>\n",
       "      <td>HALDIMAND-NORFOLK</td>\n",
       "      <td>1996</td>\n",
       "    </tr>\n",
       "    <tr>\n",
       "      <td>BRANT COUNTY</td>\n",
       "      <td>1691</td>\n",
       "    </tr>\n",
       "    <tr>\n",
       "      <td>SUDBURY AND DISTRICT</td>\n",
       "      <td>1515</td>\n",
       "    </tr>\n",
       "    <tr>\n",
       "      <td>LAMBTON COUNTY</td>\n",
       "      <td>1448</td>\n",
       "    </tr>\n",
       "    <tr>\n",
       "      <td>THUNDER BAY DISTRICT</td>\n",
       "      <td>1448</td>\n",
       "    </tr>\n",
       "    <tr>\n",
       "      <td>HURON PERTH</td>\n",
       "      <td>1247</td>\n",
       "    </tr>\n",
       "    <tr>\n",
       "      <td>CHATHAM-KENT</td>\n",
       "      <td>979</td>\n",
       "    </tr>\n",
       "    <tr>\n",
       "      <td>LEEDS, GRENVILLE AND LANARK DISTRICT</td>\n",
       "      <td>978</td>\n",
       "    </tr>\n",
       "    <tr>\n",
       "      <td>KINGSTON, FRONTENAC, LENNOX &amp; ADDINGTON</td>\n",
       "      <td>895</td>\n",
       "    </tr>\n",
       "    <tr>\n",
       "      <td>HALIBURTON, KAWARTHA, PINE RIDGE</td>\n",
       "      <td>852</td>\n",
       "    </tr>\n",
       "    <tr>\n",
       "      <td>PETERBOROUGH COUNTY-CITY</td>\n",
       "      <td>623</td>\n",
       "    </tr>\n",
       "    <tr>\n",
       "      <td>PORCUPINE</td>\n",
       "      <td>601</td>\n",
       "    </tr>\n",
       "    <tr>\n",
       "      <td>HASTINGS &amp; PRINCE EDWARD COUNTIES</td>\n",
       "      <td>573</td>\n",
       "    </tr>\n",
       "    <tr>\n",
       "      <td>NORTHWESTERN</td>\n",
       "      <td>550</td>\n",
       "    </tr>\n",
       "    <tr>\n",
       "      <td>ALGOMA DISTRICT</td>\n",
       "      <td>489</td>\n",
       "    </tr>\n",
       "    <tr>\n",
       "      <td>RENFREW COUNTY AND DISTRICT</td>\n",
       "      <td>456</td>\n",
       "    </tr>\n",
       "    <tr>\n",
       "      <td>GREY BRUCE</td>\n",
       "      <td>405</td>\n",
       "    </tr>\n",
       "    <tr>\n",
       "      <td>TIMISKAMING</td>\n",
       "      <td>263</td>\n",
       "    </tr>\n",
       "    <tr>\n",
       "      <td>NORTH BAY PARRY SOUND DISTRICT</td>\n",
       "      <td>190</td>\n",
       "    </tr>\n",
       "  </tbody>\n",
       "</table>\n",
       "</div>"
      ],
      "text/plain": [
       "                                         TotalCases\n",
       "City                                               \n",
       "TORONTO                                       30828\n",
       "PEEL REGION                                   28965\n",
       "YORK REGION                                   19651\n",
       "DURHAM REGION                                  8000\n",
       "CITY OF OTTAWA                                 7816\n",
       "CITY OF HAMILTON                               6819\n",
       "HALTON REGION                                  6588\n",
       "MIDDLESEX-LONDON                               6193\n",
       "NIAGARA REGION                                 6156\n",
       "WATERLOO REGION                                5493\n",
       "WELLINGTON-DUFFERIN-GUELPH                     4604\n",
       "WINDSOR-ESSEX COUNTY                           4600\n",
       "SIMCOE MUSKOKA DISTRICT                        3898\n",
       "EASTERN ONTARIO                                2630\n",
       "OXFORD ELGIN-ST.THOMAS                         2074\n",
       "HALDIMAND-NORFOLK                              1996\n",
       "BRANT COUNTY                                   1691\n",
       "SUDBURY AND DISTRICT                           1515\n",
       "LAMBTON COUNTY                                 1448\n",
       "THUNDER BAY DISTRICT                           1448\n",
       "HURON PERTH                                    1247\n",
       "CHATHAM-KENT                                    979\n",
       "LEEDS, GRENVILLE AND LANARK DISTRICT            978\n",
       "KINGSTON, FRONTENAC, LENNOX & ADDINGTON         895\n",
       "HALIBURTON, KAWARTHA, PINE RIDGE                852\n",
       "PETERBOROUGH COUNTY-CITY                        623\n",
       "PORCUPINE                                       601\n",
       "HASTINGS & PRINCE EDWARD COUNTIES               573\n",
       "NORTHWESTERN                                    550\n",
       "ALGOMA DISTRICT                                 489\n",
       "RENFREW COUNTY AND DISTRICT                     456\n",
       "GREY BRUCE                                      405\n",
       "TIMISKAMING                                     263\n",
       "NORTH BAY PARRY SOUND DISTRICT                  190"
      ]
     },
     "execution_count": 20,
     "metadata": {},
     "output_type": "execute_result"
    }
   ],
   "source": [
    "outbreak_data_new = outbreak_data[['City','TotalCases']]\n",
    "total_citywise_data = outbreak_data_new.groupby('City').sum()\n",
    "#sort_Values will sort our data cases so that we can extract maximum and minimum number of cases\n",
    "outbreak_data_sorted_data = total_citywise_data.sort_values(['TotalCases'],ascending=False)\n",
    "outbreak_data_sorted_data"
   ]
  },
  {
   "cell_type": "markdown",
   "metadata": {},
   "source": [
    "### Q4) Which city has minimum number of outbreaks till now?"
   ]
  },
  {
   "cell_type": "code",
   "execution_count": 22,
   "metadata": {},
   "outputs": [
    {
     "data": {
      "text/html": [
       "<div>\n",
       "<style scoped>\n",
       "    .dataframe tbody tr th:only-of-type {\n",
       "        vertical-align: middle;\n",
       "    }\n",
       "\n",
       "    .dataframe tbody tr th {\n",
       "        vertical-align: top;\n",
       "    }\n",
       "\n",
       "    .dataframe thead th {\n",
       "        text-align: right;\n",
       "    }\n",
       "</style>\n",
       "<table border=\"1\" class=\"dataframe\">\n",
       "  <thead>\n",
       "    <tr style=\"text-align: right;\">\n",
       "      <th></th>\n",
       "      <th>TotalCases</th>\n",
       "    </tr>\n",
       "    <tr>\n",
       "      <th>City</th>\n",
       "      <th></th>\n",
       "    </tr>\n",
       "  </thead>\n",
       "  <tbody>\n",
       "    <tr>\n",
       "      <td>NORTH BAY PARRY SOUND DISTRICT</td>\n",
       "      <td>190</td>\n",
       "    </tr>\n",
       "  </tbody>\n",
       "</table>\n",
       "</div>"
      ],
      "text/plain": [
       "                                TotalCases\n",
       "City                                      \n",
       "NORTH BAY PARRY SOUND DISTRICT         190"
      ]
     },
     "execution_count": 22,
     "metadata": {},
     "output_type": "execute_result"
    }
   ],
   "source": [
    "#Tail will print the lowest cases from down\n",
    "outbreak_data_sorted_data.tail(1)"
   ]
  },
  {
   "cell_type": "markdown",
   "metadata": {},
   "source": [
    "### Q5) Which city has maximum number of outbreaks till now?"
   ]
  },
  {
   "cell_type": "code",
   "execution_count": 23,
   "metadata": {},
   "outputs": [
    {
     "data": {
      "text/html": [
       "<div>\n",
       "<style scoped>\n",
       "    .dataframe tbody tr th:only-of-type {\n",
       "        vertical-align: middle;\n",
       "    }\n",
       "\n",
       "    .dataframe tbody tr th {\n",
       "        vertical-align: top;\n",
       "    }\n",
       "\n",
       "    .dataframe thead th {\n",
       "        text-align: right;\n",
       "    }\n",
       "</style>\n",
       "<table border=\"1\" class=\"dataframe\">\n",
       "  <thead>\n",
       "    <tr style=\"text-align: right;\">\n",
       "      <th></th>\n",
       "      <th>TotalCases</th>\n",
       "    </tr>\n",
       "    <tr>\n",
       "      <th>City</th>\n",
       "      <th></th>\n",
       "    </tr>\n",
       "  </thead>\n",
       "  <tbody>\n",
       "    <tr>\n",
       "      <td>TORONTO</td>\n",
       "      <td>30828</td>\n",
       "    </tr>\n",
       "  </tbody>\n",
       "</table>\n",
       "</div>"
      ],
      "text/plain": [
       "         TotalCases\n",
       "City               \n",
       "TORONTO       30828"
      ]
     },
     "execution_count": 23,
     "metadata": {},
     "output_type": "execute_result"
    }
   ],
   "source": [
    "outbreak_data_sorted_data.head(1)"
   ]
  },
  {
   "cell_type": "markdown",
   "metadata": {},
   "source": [
    "### Q6) Name top 5 cities which are having highest outbreaks."
   ]
  },
  {
   "cell_type": "code",
   "execution_count": 24,
   "metadata": {},
   "outputs": [
    {
     "data": {
      "text/html": [
       "<div>\n",
       "<style scoped>\n",
       "    .dataframe tbody tr th:only-of-type {\n",
       "        vertical-align: middle;\n",
       "    }\n",
       "\n",
       "    .dataframe tbody tr th {\n",
       "        vertical-align: top;\n",
       "    }\n",
       "\n",
       "    .dataframe thead th {\n",
       "        text-align: right;\n",
       "    }\n",
       "</style>\n",
       "<table border=\"1\" class=\"dataframe\">\n",
       "  <thead>\n",
       "    <tr style=\"text-align: right;\">\n",
       "      <th></th>\n",
       "      <th>TotalCases</th>\n",
       "    </tr>\n",
       "    <tr>\n",
       "      <th>City</th>\n",
       "      <th></th>\n",
       "    </tr>\n",
       "  </thead>\n",
       "  <tbody>\n",
       "    <tr>\n",
       "      <td>TORONTO</td>\n",
       "      <td>30828</td>\n",
       "    </tr>\n",
       "    <tr>\n",
       "      <td>PEEL REGION</td>\n",
       "      <td>28965</td>\n",
       "    </tr>\n",
       "    <tr>\n",
       "      <td>YORK REGION</td>\n",
       "      <td>19651</td>\n",
       "    </tr>\n",
       "    <tr>\n",
       "      <td>DURHAM REGION</td>\n",
       "      <td>8000</td>\n",
       "    </tr>\n",
       "    <tr>\n",
       "      <td>CITY OF OTTAWA</td>\n",
       "      <td>7816</td>\n",
       "    </tr>\n",
       "  </tbody>\n",
       "</table>\n",
       "</div>"
      ],
      "text/plain": [
       "                TotalCases\n",
       "City                      \n",
       "TORONTO              30828\n",
       "PEEL REGION          28965\n",
       "YORK REGION          19651\n",
       "DURHAM REGION         8000\n",
       "CITY OF OTTAWA        7816"
      ]
     },
     "execution_count": 24,
     "metadata": {},
     "output_type": "execute_result"
    }
   ],
   "source": [
    "#head function will extract top 5 records\n",
    "top_5 = outbreak_data_sorted_data.head(5)\n",
    "top_5"
   ]
  },
  {
   "cell_type": "code",
   "execution_count": 25,
   "metadata": {},
   "outputs": [
    {
     "data": {
      "text/plain": [
       "<matplotlib.axes._subplots.AxesSubplot at 0xb5578c8>"
      ]
     },
     "execution_count": 25,
     "metadata": {},
     "output_type": "execute_result"
    },
    {
     "data": {
      "image/png": "[encoded data removed]",
      "text/plain": [
       "<Figure size 720x360 with 1 Axes>"
      ]
     },
     "metadata": {
      "needs_background": "light"
     },
     "output_type": "display_data"
    }
   ],
   "source": [
    "# Displaying top 5 regionwise data\n",
    "top_5.plot(y=\"TotalCases\", kind=\"bar\", rot=5, fontsize=10,figsize=(10, 5))"
   ]
  },
  {
   "cell_type": "code",
   "execution_count": 26,
   "metadata": {},
   "outputs": [],
   "source": [
    "# Separting month and year from date\n",
    "outbreak_data['year'] = pd.DatetimeIndex(outbreak_data['date']).year\n",
    "outbreak_data['month'] = pd.DatetimeIndex(outbreak_data['date']).month"
   ]
  },
  {
   "cell_type": "markdown",
   "metadata": {},
   "source": [
    "###  Q7) How much Cases occurred every year ?"
   ]
  },
  {
   "cell_type": "code",
   "execution_count": 28,
   "metadata": {},
   "outputs": [
    {
     "data": {
      "text/html": [
       "<div>\n",
       "<style scoped>\n",
       "    .dataframe tbody tr th:only-of-type {\n",
       "        vertical-align: middle;\n",
       "    }\n",
       "\n",
       "    .dataframe tbody tr th {\n",
       "        vertical-align: top;\n",
       "    }\n",
       "\n",
       "    .dataframe thead th {\n",
       "        text-align: right;\n",
       "    }\n",
       "</style>\n",
       "<table border=\"1\" class=\"dataframe\">\n",
       "  <thead>\n",
       "    <tr style=\"text-align: right;\">\n",
       "      <th></th>\n",
       "      <th>TotalCases</th>\n",
       "    </tr>\n",
       "    <tr>\n",
       "      <th>year</th>\n",
       "      <th></th>\n",
       "    </tr>\n",
       "  </thead>\n",
       "  <tbody>\n",
       "    <tr>\n",
       "      <td>2020</td>\n",
       "      <td>45087</td>\n",
       "    </tr>\n",
       "    <tr>\n",
       "      <td>2021</td>\n",
       "      <td>116427</td>\n",
       "    </tr>\n",
       "  </tbody>\n",
       "</table>\n",
       "</div>"
      ],
      "text/plain": [
       "      TotalCases\n",
       "year            \n",
       "2020       45087\n",
       "2021      116427"
      ]
     },
     "execution_count": 28,
     "metadata": {},
     "output_type": "execute_result"
    }
   ],
   "source": [
    "\n",
    "#Group by year and than we will sum total number of cases\n",
    "total_yearwise_data = outbreak_data.groupby(['year']).sum()[['TotalCases']]\n",
    "total_yearwise_data"
   ]
  },
  {
   "cell_type": "code",
   "execution_count": 52,
   "metadata": {},
   "outputs": [
    {
     "data": {
      "image/png": "[encoded data removed]",
      "text/plain": [
       "<Figure size 432x288 with 1 Axes>"
      ]
     },
     "metadata": {
      "needs_background": "light"
     },
     "output_type": "display_data"
    }
   ],
   "source": [
    "# Displaying yearwise positive cases\n",
    "sns.barplot(x = 'year',y = 'TotalCases',data = outbreak_data, palette = \"bright\")\n",
    "plt.title(\" Positive Cases Yearwise\")\n",
    "plt.show()"
   ]
  },
  {
   "cell_type": "markdown",
   "metadata": {},
   "source": [
    "###  Q8) Display year and monthwise covid cases ?"
   ]
  },
  {
   "cell_type": "code",
   "execution_count": 30,
   "metadata": {},
   "outputs": [],
   "source": [
    "import calendar\n",
    "outbreak_data['month_name'] = outbreak_data['month'].apply(lambda x: calendar.month_abbr[x])"
   ]
  },
  {
   "cell_type": "code",
   "execution_count": 31,
   "metadata": {},
   "outputs": [
    {
     "data": {
      "text/html": [
       "<div>\n",
       "<style scoped>\n",
       "    .dataframe tbody tr th:only-of-type {\n",
       "        vertical-align: middle;\n",
       "    }\n",
       "\n",
       "    .dataframe tbody tr th {\n",
       "        vertical-align: top;\n",
       "    }\n",
       "\n",
       "    .dataframe thead th {\n",
       "        text-align: right;\n",
       "    }\n",
       "</style>\n",
       "<table border=\"1\" class=\"dataframe\">\n",
       "  <thead>\n",
       "    <tr style=\"text-align: right;\">\n",
       "      <th></th>\n",
       "      <th></th>\n",
       "      <th></th>\n",
       "      <th>TotalCases</th>\n",
       "    </tr>\n",
       "    <tr>\n",
       "      <th>year</th>\n",
       "      <th>month</th>\n",
       "      <th>month_name</th>\n",
       "      <th></th>\n",
       "    </tr>\n",
       "  </thead>\n",
       "  <tbody>\n",
       "    <tr>\n",
       "      <td rowspan=\"2\" valign=\"top\">2020</td>\n",
       "      <td>11</td>\n",
       "      <td>Nov</td>\n",
       "      <td>18066</td>\n",
       "    </tr>\n",
       "    <tr>\n",
       "      <td>12</td>\n",
       "      <td>Dec</td>\n",
       "      <td>27021</td>\n",
       "    </tr>\n",
       "    <tr>\n",
       "      <td rowspan=\"6\" valign=\"top\">2021</td>\n",
       "      <td>1</td>\n",
       "      <td>Jan</td>\n",
       "      <td>32170</td>\n",
       "    </tr>\n",
       "    <tr>\n",
       "      <td>2</td>\n",
       "      <td>Feb</td>\n",
       "      <td>19611</td>\n",
       "    </tr>\n",
       "    <tr>\n",
       "      <td>3</td>\n",
       "      <td>Mar</td>\n",
       "      <td>18072</td>\n",
       "    </tr>\n",
       "    <tr>\n",
       "      <td>4</td>\n",
       "      <td>Apr</td>\n",
       "      <td>23984</td>\n",
       "    </tr>\n",
       "    <tr>\n",
       "      <td>5</td>\n",
       "      <td>May</td>\n",
       "      <td>19146</td>\n",
       "    </tr>\n",
       "    <tr>\n",
       "      <td>6</td>\n",
       "      <td>Jun</td>\n",
       "      <td>3444</td>\n",
       "    </tr>\n",
       "  </tbody>\n",
       "</table>\n",
       "</div>"
      ],
      "text/plain": [
       "                       TotalCases\n",
       "year month month_name            \n",
       "2020 11    Nov              18066\n",
       "     12    Dec              27021\n",
       "2021 1     Jan              32170\n",
       "     2     Feb              19611\n",
       "     3     Mar              18072\n",
       "     4     Apr              23984\n",
       "     5     May              19146\n",
       "     6     Jun               3444"
      ]
     },
     "execution_count": 31,
     "metadata": {},
     "output_type": "execute_result"
    }
   ],
   "source": [
    "total_monthwise_data = outbreak_data.groupby(['year','month','month_name']).sum()[['TotalCases']]\n",
    "total_monthwise_data"
   ]
  },
  {
   "cell_type": "code",
   "execution_count": 32,
   "metadata": {},
   "outputs": [
    {
     "data": {
      "text/html": [
       "<div>\n",
       "<style scoped>\n",
       "    .dataframe tbody tr th:only-of-type {\n",
       "        vertical-align: middle;\n",
       "    }\n",
       "\n",
       "    .dataframe tbody tr th {\n",
       "        vertical-align: top;\n",
       "    }\n",
       "\n",
       "    .dataframe thead th {\n",
       "        text-align: right;\n",
       "    }\n",
       "</style>\n",
       "<table border=\"1\" class=\"dataframe\">\n",
       "  <thead>\n",
       "    <tr style=\"text-align: right;\">\n",
       "      <th></th>\n",
       "      <th>date</th>\n",
       "      <th>City</th>\n",
       "      <th>phu_num</th>\n",
       "      <th>outbreak_group</th>\n",
       "      <th>TotalCases</th>\n",
       "      <th>year</th>\n",
       "      <th>month</th>\n",
       "      <th>month_name</th>\n",
       "    </tr>\n",
       "  </thead>\n",
       "  <tbody>\n",
       "    <tr>\n",
       "      <td>0</td>\n",
       "      <td>2020-11-01</td>\n",
       "      <td>BRANT COUNTY</td>\n",
       "      <td>2227</td>\n",
       "      <td>4 Workplace</td>\n",
       "      <td>1</td>\n",
       "      <td>2020</td>\n",
       "      <td>11</td>\n",
       "      <td>Nov</td>\n",
       "    </tr>\n",
       "    <tr>\n",
       "      <td>1</td>\n",
       "      <td>2020-11-01</td>\n",
       "      <td>BRANT COUNTY</td>\n",
       "      <td>2227</td>\n",
       "      <td>1 Congregate Care</td>\n",
       "      <td>2</td>\n",
       "      <td>2020</td>\n",
       "      <td>11</td>\n",
       "      <td>Nov</td>\n",
       "    </tr>\n",
       "    <tr>\n",
       "      <td>2</td>\n",
       "      <td>2020-11-01</td>\n",
       "      <td>CHATHAM-KENT</td>\n",
       "      <td>2240</td>\n",
       "      <td>5 Recreational</td>\n",
       "      <td>1</td>\n",
       "      <td>2020</td>\n",
       "      <td>11</td>\n",
       "      <td>Nov</td>\n",
       "    </tr>\n",
       "    <tr>\n",
       "      <td>3</td>\n",
       "      <td>2020-11-01</td>\n",
       "      <td>CHATHAM-KENT</td>\n",
       "      <td>2240</td>\n",
       "      <td>6 Other/Unknown</td>\n",
       "      <td>1</td>\n",
       "      <td>2020</td>\n",
       "      <td>11</td>\n",
       "      <td>Nov</td>\n",
       "    </tr>\n",
       "    <tr>\n",
       "      <td>4</td>\n",
       "      <td>2020-11-01</td>\n",
       "      <td>CHATHAM-KENT</td>\n",
       "      <td>2240</td>\n",
       "      <td>4 Workplace</td>\n",
       "      <td>1</td>\n",
       "      <td>2020</td>\n",
       "      <td>11</td>\n",
       "      <td>Nov</td>\n",
       "    </tr>\n",
       "  </tbody>\n",
       "</table>\n",
       "</div>"
      ],
      "text/plain": [
       "         date          City  phu_num     outbreak_group  TotalCases  year  \\\n",
       "0  2020-11-01  BRANT COUNTY     2227        4 Workplace           1  2020   \n",
       "1  2020-11-01  BRANT COUNTY     2227  1 Congregate Care           2  2020   \n",
       "2  2020-11-01  CHATHAM-KENT     2240     5 Recreational           1  2020   \n",
       "3  2020-11-01  CHATHAM-KENT     2240    6 Other/Unknown           1  2020   \n",
       "4  2020-11-01  CHATHAM-KENT     2240        4 Workplace           1  2020   \n",
       "\n",
       "   month month_name  \n",
       "0     11        Nov  \n",
       "1     11        Nov  \n",
       "2     11        Nov  \n",
       "3     11        Nov  \n",
       "4     11        Nov  "
      ]
     },
     "execution_count": 32,
     "metadata": {},
     "output_type": "execute_result"
    }
   ],
   "source": [
    "# Filtering Data for Year 2020\n",
    "outbreak_data_2020 = outbreak_data[outbreak_data.year == 2020]\n",
    "outbreak_data_2020.head()"
   ]
  },
  {
   "cell_type": "code",
   "execution_count": 34,
   "metadata": {},
   "outputs": [
    {
     "data": {
      "text/html": [
       "<div>\n",
       "<style scoped>\n",
       "    .dataframe tbody tr th:only-of-type {\n",
       "        vertical-align: middle;\n",
       "    }\n",
       "\n",
       "    .dataframe tbody tr th {\n",
       "        vertical-align: top;\n",
       "    }\n",
       "\n",
       "    .dataframe thead th {\n",
       "        text-align: right;\n",
       "    }\n",
       "</style>\n",
       "<table border=\"1\" class=\"dataframe\">\n",
       "  <thead>\n",
       "    <tr style=\"text-align: right;\">\n",
       "      <th></th>\n",
       "      <th>date</th>\n",
       "      <th>City</th>\n",
       "      <th>phu_num</th>\n",
       "      <th>outbreak_group</th>\n",
       "      <th>TotalCases</th>\n",
       "      <th>year</th>\n",
       "      <th>month</th>\n",
       "      <th>month_name</th>\n",
       "    </tr>\n",
       "  </thead>\n",
       "  <tbody>\n",
       "    <tr>\n",
       "      <td>7055</td>\n",
       "      <td>2021-01-01</td>\n",
       "      <td>BRANT COUNTY</td>\n",
       "      <td>2227</td>\n",
       "      <td>4 Workplace</td>\n",
       "      <td>4</td>\n",
       "      <td>2021</td>\n",
       "      <td>1</td>\n",
       "      <td>Jan</td>\n",
       "    </tr>\n",
       "    <tr>\n",
       "      <td>7056</td>\n",
       "      <td>2021-01-01</td>\n",
       "      <td>BRANT COUNTY</td>\n",
       "      <td>2227</td>\n",
       "      <td>3 Education</td>\n",
       "      <td>4</td>\n",
       "      <td>2021</td>\n",
       "      <td>1</td>\n",
       "      <td>Jan</td>\n",
       "    </tr>\n",
       "    <tr>\n",
       "      <td>7057</td>\n",
       "      <td>2021-01-01</td>\n",
       "      <td>BRANT COUNTY</td>\n",
       "      <td>2227</td>\n",
       "      <td>1 Congregate Care</td>\n",
       "      <td>5</td>\n",
       "      <td>2021</td>\n",
       "      <td>1</td>\n",
       "      <td>Jan</td>\n",
       "    </tr>\n",
       "    <tr>\n",
       "      <td>7058</td>\n",
       "      <td>2021-01-01</td>\n",
       "      <td>CHATHAM-KENT</td>\n",
       "      <td>2240</td>\n",
       "      <td>4 Workplace</td>\n",
       "      <td>4</td>\n",
       "      <td>2021</td>\n",
       "      <td>1</td>\n",
       "      <td>Jan</td>\n",
       "    </tr>\n",
       "    <tr>\n",
       "      <td>7059</td>\n",
       "      <td>2021-01-01</td>\n",
       "      <td>CHATHAM-KENT</td>\n",
       "      <td>2240</td>\n",
       "      <td>5 Recreational</td>\n",
       "      <td>1</td>\n",
       "      <td>2021</td>\n",
       "      <td>1</td>\n",
       "      <td>Jan</td>\n",
       "    </tr>\n",
       "  </tbody>\n",
       "</table>\n",
       "</div>"
      ],
      "text/plain": [
       "            date          City  phu_num     outbreak_group  TotalCases  year  \\\n",
       "7055  2021-01-01  BRANT COUNTY     2227        4 Workplace           4  2021   \n",
       "7056  2021-01-01  BRANT COUNTY     2227        3 Education           4  2021   \n",
       "7057  2021-01-01  BRANT COUNTY     2227  1 Congregate Care           5  2021   \n",
       "7058  2021-01-01  CHATHAM-KENT     2240        4 Workplace           4  2021   \n",
       "7059  2021-01-01  CHATHAM-KENT     2240     5 Recreational           1  2021   \n",
       "\n",
       "      month month_name  \n",
       "7055      1        Jan  \n",
       "7056      1        Jan  \n",
       "7057      1        Jan  \n",
       "7058      1        Jan  \n",
       "7059      1        Jan  "
      ]
     },
     "execution_count": 34,
     "metadata": {},
     "output_type": "execute_result"
    }
   ],
   "source": [
    "# Filtering Data for Year 2021\n",
    "outbreak_data_2021 = outbreak_data[outbreak_data.year == 2021]\n",
    "outbreak_data_2021.head()"
   ]
  },
  {
   "cell_type": "code",
   "execution_count": 54,
   "metadata": {},
   "outputs": [
    {
     "data": {
      "image/png": "[encoded data removed]",
      "text/plain": [
       "<Figure size 432x288 with 1 Axes>"
      ]
     },
     "metadata": {
      "needs_background": "light"
     },
     "output_type": "display_data"
    }
   ],
   "source": [
    "# Displaying monthwise positive cases 2020\n",
    "sns.barplot(x = 'month_name',y = 'TotalCases',data = outbreak_data_2020, palette = \"colorblind\")\n",
    "plt.title(\" Positive Cases per month for Year-2020\")\n",
    "plt.show()"
   ]
  },
  {
   "cell_type": "code",
   "execution_count": 58,
   "metadata": {},
   "outputs": [
    {
     "data": {
      "image/png": "[encoded data removed]",
      "text/plain": [
       "<Figure size 432x288 with 1 Axes>"
      ]
     },
     "metadata": {
      "needs_background": "light"
     },
     "output_type": "display_data"
    }
   ],
   "source": [
    "# Displaying monthwise positive cases 2021\n",
    "sns.barplot(x = 'month_name',y = 'TotalCases',data = outbreak_data_2021, palette = \"pastel\")\n",
    "plt.title(\" Positive Cases each month for Year-2021\")\n",
    "plt.show()"
   ]
  },
  {
   "cell_type": "code",
   "execution_count": null,
   "metadata": {},
   "outputs": [],
   "source": []
  }
 ],
 "metadata": {
  "kernelspec": {
   "display_name": "Python 3",
   "language": "python",
   "name": "python3"
  },
  "language_info": {
   "codemirror_mode": {
    "name": "ipython",
    "version": 3
   },
   "file_extension": ".py",
   "mimetype": "text/x-python",
   "name": "python",
   "nbconvert_exporter": "python",
   "pygments_lexer": "ipython3",
   "version": "3.7.4"
  }
 },
 "nbformat": 4,
 "nbformat_minor": 4
}
